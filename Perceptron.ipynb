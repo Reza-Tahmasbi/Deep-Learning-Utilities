{
  "nbformat": 4,
  "nbformat_minor": 0,
  "metadata": {
    "colab": {
      "provenance": []
    },
    "kernelspec": {
      "name": "python3",
      "display_name": "Python 3"
    },
    "language_info": {
      "name": "python"
    }
  },
  "cells": [
    {
      "cell_type": "markdown",
      "source": [
        "### **Perceptron**"
      ],
      "metadata": {
        "id": "BJYY5X03cmax"
      }
    },
    {
      "cell_type": "code",
      "source": [
        "!git init"
      ],
      "metadata": {
        "colab": {
          "base_uri": "https://localhost:8080/"
        },
        "id": "EjdT4FyPEZ9P",
        "outputId": "c9a9dc29-78d2-43e2-b21f-b6dcc6aaf528"
      },
      "execution_count": 184,
      "outputs": [
        {
          "output_type": "stream",
          "name": "stdout",
          "text": [
            "\u001b[33mhint: Using 'master' as the name for the initial branch. This default branch name\u001b[m\n",
            "\u001b[33mhint: is subject to change. To configure the initial branch name to use in all\u001b[m\n",
            "\u001b[33mhint: of your new repositories, which will suppress this warning, call:\u001b[m\n",
            "\u001b[33mhint: \u001b[m\n",
            "\u001b[33mhint: \tgit config --global init.defaultBranch <name>\u001b[m\n",
            "\u001b[33mhint: \u001b[m\n",
            "\u001b[33mhint: Names commonly chosen instead of 'master' are 'main', 'trunk' and\u001b[m\n",
            "\u001b[33mhint: 'development'. The just-created branch can be renamed via this command:\u001b[m\n",
            "\u001b[33mhint: \u001b[m\n",
            "\u001b[33mhint: \tgit branch -m <name>\u001b[m\n",
            "Initialized empty Git repository in /content/.git/\n"
          ]
        }
      ]
    },
    {
      "cell_type": "code",
      "source": [
        "!git remote add origin"
      ],
      "metadata": {
        "id": "FhOVNAE-EcyY"
      },
      "execution_count": null,
      "outputs": []
    },
    {
      "cell_type": "code",
      "execution_count": 1,
      "metadata": {
        "id": "JV-0lzf6ckYR"
      },
      "outputs": [],
      "source": [
        "import numpy as np"
      ]
    },
    {
      "cell_type": "code",
      "source": [
        "import tensorflow as tf\n",
        "from tqdm import tqdm"
      ],
      "metadata": {
        "id": "YOTzFn9cgutN"
      },
      "execution_count": 161,
      "outputs": []
    },
    {
      "cell_type": "code",
      "source": [
        "def accuracy(y_true, y_pred):\n",
        "  acuracy = np.sum(y_true == y_pred) / len(y_true)\n",
        "  return accuracy\n",
        "\n",
        "def unit_step_funciton(x):\n",
        "  return np.where(x > 0, 1, 0)\n",
        "\n",
        "def dist(distribution, n_features):\n",
        "  if distribution == \"random\":\n",
        "    w = np.random.randn(n_features)\n",
        "  if distribution == \"gaussian\":\n",
        "    w = np.random.normal(0, 0.01,n_features)\n",
        "  if distribution == \"uniform\":\n",
        "    w = np.random.uniform(0, 0.01,n_features)\n",
        "  return w"
      ],
      "metadata": {
        "id": "ti7Vd1jXmB6D"
      },
      "execution_count": 179,
      "outputs": []
    },
    {
      "cell_type": "code",
      "source": [
        "class Perceptron:\n",
        "  def __init__(self, distribution, learning_rate=0.01, n_iters=1000):\n",
        "    self.weights = None\n",
        "    self.bias = None\n",
        "    self.lr = learning_rate\n",
        "    self.n_iters = n_iters\n",
        "    self.activation_func = unit_step_funciton\n",
        "    self.distribution = distribution\n",
        "\n",
        "  # to train the precptron with X.shape number of samples\n",
        "  def fit(self, X, y):\n",
        "    n_sample, n_features = X.shape\n",
        "    self.weights = dist(self.distribution, n_features)\n",
        "    self.bias = dist(self.distribution, 1)\n",
        "    y_ = np.where(y > 0, 1, 0)\n",
        "\n",
        "    for _ in tqdm(range(self.n_iters)):\n",
        "      for idx, x_i in enumerate(X):\n",
        "        # forward pass\n",
        "        z = np.dot(x_i, self.weights) + self.bias\n",
        "        y_hat = self.activation_func(z)\n",
        "        # update\n",
        "        self.weights = self.lr * (y_hat - y[idx]) * x_i\n",
        "        self.bias = self.lr * (y_hat - y[idx])\n",
        "\n",
        "\n",
        "  def predict(self, X):\n",
        "    # just a foward pass is enough for it\n",
        "    z = np.dot(X, self.weights) * self.bias\n",
        "    y_hat = self.activation_func(z)\n",
        "    return y_hat"
      ],
      "metadata": {
        "id": "3LwZFGUTc0bG"
      },
      "execution_count": 182,
      "outputs": []
    },
    {
      "cell_type": "code",
      "source": [
        "# Testing out code\n",
        "if __name__ == \"__main__\":\n",
        "  import matplotlib.pyplot as plt\n",
        "  from sklearn.model_selection import train_test_split\n",
        "  from sklearn import datasets\n",
        "\n",
        "  X, y = datasets.make_blobs(\n",
        "      n_samples = 50, n_features = 2, centers = 2, cluster_std = 1.05, random_state = 2\n",
        "  )\n",
        "  X_train, X_test, y_train, y_test = train_test_split(X,y,test_size = 0.2, random_state = 123)\n",
        "\n",
        "  p = Perceptron(\"uniform\", learning_rate = 0.01, n_iters = 1000)\n",
        "  p.fit(X_train, y_train)\n",
        "  predictions = p.predict(X_test)\n",
        "  print(predictions)\n",
        "  print(\"Perceptron classification accuracy\", accuracy(y_test, predictions))\n",
        "\n",
        "  fig = plt.figure()\n",
        "  ax = fig.add_subplot(1, 1, 1)\n",
        "  plt.scatter(X_train[:,0], X_train[:,1], marker=\"o\", c = y_train)\n",
        "  x0_1 = np.amin(X_train[:,0])\n",
        "  x0_2 = np.amin(X_train[:,0])\n",
        "\n",
        "  x1_1 = (-p.weights[0] * x0_1 - p.bias) / p.weights[1]\n",
        "  x1_2 = (-p.weights[0] * x0_2 - p.bias) / p.weights[1]\n",
        "\n",
        "  ax.plot([x0_1, x0_2],[x1_1, x1_2], \"k\")\n",
        "  ymin = np.amin(X_train[:,1])\n",
        "  ymax = np.amin(X_train[:,1])\n",
        "  ax.set_ylim([ymin - 3, ymax + 3])\n",
        "  plt.show()"
      ],
      "metadata": {
        "colab": {
          "base_uri": "https://localhost:8080/",
          "height": 482
        },
        "id": "Hq3vG73YmfOm",
        "outputId": "5545e7af-8c83-4ae1-87db-171195e4c6fe"
      },
      "execution_count": 183,
      "outputs": [
        {
          "output_type": "stream",
          "name": "stderr",
          "text": [
            "100%|██████████| 1000/1000 [00:02<00:00, 459.21it/s]\n"
          ]
        },
        {
          "output_type": "stream",
          "name": "stdout",
          "text": [
            "[1 1 1 1 1 1 1 1 1 1]\n",
            "Perceptron classification accuracy <function accuracy at 0x7d4bed4c5090>\n"
          ]
        },
        {
          "output_type": "display_data",
          "data": {
            "text/plain": [
              "<Figure size 640x480 with 1 Axes>"
            ],
            "image/png": "[encoded data removed]"
          },
          "metadata": {}
        }
      ]
    },
    {
      "cell_type": "code",
      "source": [
        "print(predictions.shape)"
      ],
      "metadata": {
        "colab": {
          "base_uri": "https://localhost:8080/"
        },
        "id": "hX1aMfXQnx92",
        "outputId": "523cc2e9-90ea-4cb1-b5fc-5f819b5cfdeb"
      },
      "execution_count": 172,
      "outputs": [
        {
          "output_type": "stream",
          "name": "stdout",
          "text": [
            "(10,)\n"
          ]
        }
      ]
    },
    {
      "cell_type": "code",
      "source": [],
      "metadata": {
        "id": "rAorA7R7_qsI"
      },
      "execution_count": null,
      "outputs": []
    }
  ]
}